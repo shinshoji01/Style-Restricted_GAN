{
 "cells": [
  {
   "cell_type": "code",
   "execution_count": 1,
   "metadata": {},
   "outputs": [],
   "source": [
    "import warnings\n",
    "warnings.filterwarnings(\"ignore\")\n",
    "import glob\n",
    "import torch\n",
    "import time\n",
    "import torch.nn as nn\n",
    "import torch.optim as optim\n",
    "import torch.nn.functional as F\n",
    "import torchvision\n",
    "import numpy as np\n",
    "import matplotlib.pyplot as plt\n",
    "import torch.utils.data\n",
    "import torchvision.transforms as transforms\n",
    "from torch.autograd import Variable\n",
    "from PIL import Image\n",
    "from IPython.display import clear_output"
   ]
  },
  {
   "cell_type": "code",
   "execution_count": 2,
   "metadata": {},
   "outputs": [],
   "source": [
    "import plotly\n",
    "from plotly.offline import iplot\n",
    "import plotly.graph_objs as go"
   ]
  },
  {
   "cell_type": "code",
   "execution_count": 3,
   "metadata": {},
   "outputs": [
    {
     "data": {
      "text/html": [
       "        <script type=\"text/javascript\">\n",
       "        window.PlotlyConfig = {MathJaxConfig: 'local'};\n",
       "        if (window.MathJax) {MathJax.Hub.Config({SVG: {font: \"STIX-Web\"}});}\n",
       "        if (typeof require !== 'undefined') {\n",
       "        require.undef(\"plotly\");\n",
       "        requirejs.config({\n",
       "            paths: {\n",
       "                'plotly': ['https://cdn.plot.ly/plotly-latest.min']\n",
       "            }\n",
       "        });\n",
       "        require(['plotly'], function(Plotly) {\n",
       "            window._Plotly = Plotly;\n",
       "        });\n",
       "        }\n",
       "        </script>\n",
       "        "
      ]
     },
     "metadata": {},
     "output_type": "display_data"
    }
   ],
   "source": [
    "plotly.offline.init_notebook_mode(connected=True)"
   ]
  },
  {
   "cell_type": "code",
   "execution_count": 4,
   "metadata": {},
   "outputs": [],
   "source": [
    "import sys\n",
    "sys.path.append(\"../pyfiles/\")\n",
    "from util import * \n",
    "from dataset import * \n",
    "from model import * "
   ]
  },
  {
   "cell_type": "markdown",
   "metadata": {},
   "source": [
    "# Get celebA dataset"
   ]
  },
  {
   "cell_type": "code",
   "execution_count": 5,
   "metadata": {},
   "outputs": [],
   "source": [
    "label_discription = [\n",
    "    \"male, smiling\",\n",
    "    \"male, not smiling\",\n",
    "    \"female, smiling\",\n",
    "    \"female, not smiling\"\n",
    "]"
   ]
  },
  {
   "cell_type": "code",
   "execution_count": 6,
   "metadata": {},
   "outputs": [],
   "source": [
    "root = \"./../../dataset/celebA/img/\"\n",
    "label_root = \"./../../dataset/celebA/label_folder/\""
   ]
  },
  {
   "cell_type": "code",
   "execution_count": 7,
   "metadata": {},
   "outputs": [],
   "source": [
    "# 1 5 o clock shadow\n",
    "# 11 blurry\n",
    "# 14 chubby\n",
    "# 15 double chin\n",
    "# 16 eyeglasses\n",
    "# 17 goatee\n",
    "# 21 male\n",
    "# 23 mustache\n",
    "# 25 No_Beard\n",
    "# 31 sideburns\n",
    "# 32 smiling\n",
    "# 36 wearing hat\n",
    "# 40 young\n",
    "dataset_label = {}\n",
    "dataset_label[\"existed\"] = [25] \n",
    "dataset_label[\"delete\"] = [1, 11, 14, 15, 16, 17, 23, 31, 36] \n",
    "dataset_label[\"class\"] = [21, 32] "
   ]
  },
  {
   "cell_type": "code",
   "execution_count": 8,
   "metadata": {},
   "outputs": [
    {
     "data": {
      "text/plain": [
       "(0, 1, 2, 3)"
      ]
     },
     "execution_count": 8,
     "metadata": {},
     "output_type": "execute_result"
    }
   ],
   "source": [
    "classes = tuple(range(2**len(dataset_label[\"class\"])))\n",
    "cl = get_class_label(len(dataset_label[\"class\"]))\n",
    "classes"
   ]
  },
  {
   "cell_type": "code",
   "execution_count": 9,
   "metadata": {},
   "outputs": [],
   "source": [
    "normalize = transforms.Normalize(\n",
    "        mean=[0.485, 0.456, 0.406],\n",
    "        std=[0.229, 0.224, 0.225])\n",
    "\n",
    "class MinMax(object):\n",
    "    def __init__(self, mean0=True):\n",
    "        self.mean0 = mean0\n",
    "        pass\n",
    "    def __call__(self, img):\n",
    "        return torch.Tensor(min_max(cuda2numpy(img), mean0=self.mean0))\n",
    "    def __repr__(self):\n",
    "        return self.__class__.__name__\n",
    "\n",
    "transform = {}\n",
    "transform[\"train\"] = transforms.Compose([\n",
    "    transforms.CenterCrop((178, 178)),\n",
    "    transforms.Resize((128, 128)),\n",
    "    transforms.RandomHorizontalFlip(p=0.5),\n",
    "    transforms.ToTensor(),\n",
    "    MinMax(True),\n",
    "])\n",
    "    \n",
    "transform[\"test\"] = transforms.Compose([\n",
    "    transforms.CenterCrop((178, 178)),\n",
    "    transforms.Resize((128, 128)),\n",
    "    transforms.ToTensor(),\n",
    "    MinMax(True),\n",
    "#     normalize,\n",
    "])"
   ]
  },
  {
   "cell_type": "code",
   "execution_count": 10,
   "metadata": {},
   "outputs": [
    {
     "data": {
      "text/plain": [
       "(134530, 400)"
      ]
     },
     "execution_count": 10,
     "metadata": {},
     "output_type": "execute_result"
    }
   ],
   "source": [
    "each_train_num = 10000000\n",
    "each_val_num = 0\n",
    "each_test_num = 100\n",
    "dataset = FaceDataset(root, label_root, transform[\"train\"], dataset_label, classes, data_type=\"train\", train_num=each_train_num, val_num=each_val_num, test_num=each_test_num)\n",
    "dataloader = torch.utils.data.DataLoader(dataset=dataset, batch_size=256, shuffle=True)\n",
    "testset = FaceDataset(root, label_root, transform[\"test\"], dataset_label, classes, data_type=\"test\", train_num=each_train_num, val_num=each_val_num, test_num=each_test_num)\n",
    "len(dataset), len(testset)"
   ]
  },
  {
   "cell_type": "code",
   "execution_count": 11,
   "metadata": {},
   "outputs": [
    {
     "name": "stdout",
     "output_type": "stream",
     "text": [
      "0\n"
     ]
    },
    {
     "data": {
      "text/plain": [
       "<matplotlib.image.AxesImage at 0x7f86e2e4dcf8>"
      ]
     },
     "execution_count": 11,
     "metadata": {},
     "output_type": "execute_result"
    },
    {
     "data": {
      "image/png": "[encoded data removed]",
      "text/plain": [
       "<Figure size 432x288 with 1 Axes>"
      ]
     },
     "metadata": {
      "needs_background": "light"
     },
     "output_type": "display_data"
    }
   ],
   "source": [
    "data = dataloader.dataset[24]\n",
    "img = data[0]\n",
    "image = image_from_output(torch.reshape(img, (1,img.shape[0],img.shape[1],img.shape[2])))[0]\n",
    "print(data[1])\n",
    "plt.imshow(image)"
   ]
  },
  {
   "cell_type": "markdown",
   "metadata": {},
   "source": [
    "## Algorithm"
   ]
  },
  {
   "cell_type": "code",
   "execution_count": 12,
   "metadata": {},
   "outputs": [],
   "source": [
    "def shuffle(img):\n",
    "    return img[np.random.choice(np.arange(img.shape[0]), size=img.shape[0], replace=False)]"
   ]
  },
  {
   "cell_type": "markdown",
   "metadata": {
    "toc-hr-collapsed": false
   },
   "source": [
    "# conditional GAN"
   ]
  },
  {
   "cell_type": "code",
   "execution_count": 13,
   "metadata": {},
   "outputs": [
    {
     "data": {
      "text/plain": [
       "'cuda'"
      ]
     },
     "execution_count": 13,
     "metadata": {},
     "output_type": "execute_result"
    }
   ],
   "source": [
    "epoch_num = 61\n",
    "lr_D = 0.0001\n",
    "lr_G = 0.0002\n",
    "lr_E = 0.001\n",
    "# torch.cuda.set_device(\"cuda:4\")\n",
    "device = \"cuda\" if torch.cuda.is_available() else \"cpu\"\n",
    "device"
   ]
  },
  {
   "cell_type": "code",
   "execution_count": 14,
   "metadata": {},
   "outputs": [
    {
     "data": {
      "text/html": [
       "<div>\n",
       "<style scoped>\n",
       "    .dataframe tbody tr th:only-of-type {\n",
       "        vertical-align: middle;\n",
       "    }\n",
       "\n",
       "    .dataframe tbody tr th {\n",
       "        vertical-align: top;\n",
       "    }\n",
       "\n",
       "    .dataframe thead th {\n",
       "        text-align: right;\n",
       "    }\n",
       "</style>\n",
       "<table border=\"1\" class=\"dataframe\">\n",
       "  <thead>\n",
       "    <tr style=\"text-align: right;\">\n",
       "      <th></th>\n",
       "      <th>model_type</th>\n",
       "      <th>attention_mode</th>\n",
       "      <th>attention</th>\n",
       "    </tr>\n",
       "  </thead>\n",
       "  <tbody>\n",
       "    <tr>\n",
       "      <th>0</th>\n",
       "      <td>pretrained</td>\n",
       "      <td></td>\n",
       "      <td></td>\n",
       "    </tr>\n",
       "    <tr>\n",
       "      <th>1</th>\n",
       "      <td>gradattention</td>\n",
       "      <td>relu</td>\n",
       "      <td></td>\n",
       "    </tr>\n",
       "    <tr>\n",
       "      <th>2</th>\n",
       "      <td>gradattention</td>\n",
       "      <td>relumodified</td>\n",
       "      <td>0.1</td>\n",
       "    </tr>\n",
       "    <tr>\n",
       "      <th>3</th>\n",
       "      <td>gradattention</td>\n",
       "      <td>relumodified</td>\n",
       "      <td>1</td>\n",
       "    </tr>\n",
       "    <tr>\n",
       "      <th>4</th>\n",
       "      <td>gradattention</td>\n",
       "      <td>relumodified</td>\n",
       "      <td>10</td>\n",
       "    </tr>\n",
       "    <tr>\n",
       "      <th>5</th>\n",
       "      <td>gradattention</td>\n",
       "      <td>relumodified</td>\n",
       "      <td>100</td>\n",
       "    </tr>\n",
       "    <tr>\n",
       "      <th>6</th>\n",
       "      <td>gradattention</td>\n",
       "      <td>relumodified</td>\n",
       "      <td>1000</td>\n",
       "    </tr>\n",
       "  </tbody>\n",
       "</table>\n",
       "</div>"
      ],
      "text/plain": [
       "      model_type attention_mode attention\n",
       "0     pretrained                         \n",
       "1  gradattention           relu          \n",
       "2  gradattention   relumodified       0.1\n",
       "3  gradattention   relumodified         1\n",
       "4  gradattention   relumodified        10\n",
       "5  gradattention   relumodified       100\n",
       "6  gradattention   relumodified      1000"
      ]
     },
     "execution_count": 14,
     "metadata": {},
     "output_type": "execute_result"
    }
   ],
   "source": [
    "import pandas as pd\n",
    "def get_adjustable_parameters(notebook_no=1):\n",
    "    if notebook_no == 3: \n",
    "        models = [[\"conventionalKL\", False],\n",
    "                  [\"conventionalKL\", True],\n",
    "                  [\"proposedKL\", False],\n",
    "                  [\"proposedKL\", True]]\n",
    "        columns=[\"restriction_type\", \"styleINdataset\"]\n",
    "        \n",
    "    if notebook_no == 5:\n",
    "        models = [[\"pretrained\", \"\", \"\"],\n",
    "                  [\"gradattention\", \"relu\", \"\"],\n",
    "                  [\"gradattention\", \"relumodified\", 0.1],\n",
    "                  [\"gradattention\", \"relumodified\", 1],\n",
    "                  [\"gradattention\", \"relumodified\", 10],\n",
    "                  [\"gradattention\", \"relumodified\", 100],\n",
    "                  [\"gradattention\", \"relumodified\", 1000]]\n",
    "        columns = [\"model_type\", \"attention_mode\", \"attention\"]\n",
    "    return pd.DataFrame(np.array(models), columns=columns)\n",
    "get_adjustable_parameters(5)"
   ]
  },
  {
   "cell_type": "code",
   "execution_count": 15,
   "metadata": {},
   "outputs": [],
   "source": [
    "# ---- adjustable parameters ---- #\n",
    "ndim = 8 # the dimension of noise vector, indicating the style\n",
    "nch_in = 3\n",
    "nch = 64\n",
    "reduce = 2\n",
    "num_cls = 2\n",
    "res_num = 6\n",
    "dis_reduce = 2\n",
    "dis_nch = 64\n",
    "dis_num_cls = 4\n",
    "\n",
    "model_type = \"pretrained\" # \"nopretraining\", \"gradattention\", \"pretrained\"\n",
    "attention_mode = \"\" # this will be available when you set 'model_type' as \"gradattention\": \"relu\", \"relumodified\"\n",
    "restriction_type = \"proposedKL\" # \"conventionalKL\", \"proposedKL\"\n",
    "styleINdataset = False\n",
    "save_parameter = True\n",
    "###################################\n",
    "\n",
    "ref_label = np.eye(len(classes))\n",
    "if restriction_type == \"conventionalKL\":\n",
    "    encoded_feature = \"latent\" # \"latent\" or \"mu\"\n",
    "elif restriction_type == \"proposedKL\":\n",
    "    encoded_feature = \"mu\" # \"latent\" or \"mu\"\n",
    "if styleINdataset:\n",
    "    styleINdataset_or_not = \"styleINdataset_\"\n",
    "else:\n",
    "    styleINdataset_or_not = \"\"\n",
    "hi = histogram_imitation(device)"
   ]
  },
  {
   "cell_type": "code",
   "execution_count": 16,
   "metadata": {},
   "outputs": [],
   "source": [
    "criterion = nn.MSELoss()\n",
    "criterion_class = nn.MSELoss()"
   ]
  },
  {
   "cell_type": "code",
   "execution_count": 17,
   "metadata": {},
   "outputs": [],
   "source": [
    "devices = [0,1,2,3]\n",
    "netG = SingleGenerator(nch_in, nch, reduce, num_cls, res_num, \"instance\", num_con=ref_label.shape[1]+ndim).to(device)\n",
    "netG.apply(weights_init)\n",
    "netG = nn.DataParallel(netG, devices)\n",
    "netD = SingleDiscriminator_solo_multi(nch_in, dis_nch, dis_reduce, dis_num_cls, \"instance\", ref_label.shape[1]).to(device)\n",
    "netD.apply(weights_init)\n",
    "netD = nn.DataParallel(netD, devices)\n",
    "if model_type in [\"nopretraining\", \"pretrained\"]:\n",
    "    netE = Encoder(nch_in, ndim, nch, 4, \"instance\", ref_label.shape[1]).to(device)\n",
    "elif model_type==\"gradattention\":\n",
    "    netE = Encoder_gradattention(nch_in, ndim, nch, 4, \"instance\", ref_label.shape[1], attention_mode, classes, criterion_class, device, ref_label).to(device)\n",
    "netE.apply(weights_init);"
   ]
  },
  {
   "cell_type": "code",
   "execution_count": 18,
   "metadata": {},
   "outputs": [
    {
     "name": "stdout",
     "output_type": "stream",
     "text": [
      "_IncompatibleKeys(missing_keys=['fcmean.weight', 'fcmean.bias', 'fcvar.weight', 'fcvar.bias', 'fcclass_reduced.weight', 'fcclass_reduced.bias'], unexpected_keys=[])\n"
     ]
    }
   ],
   "source": [
    "if model_type in [\"gradattention\", \"pretrained\"]:\n",
    "    dir = \"../data/parameters/04/\"\n",
    "    dir = \"instant_model_parameter/\"\n",
    "    model_path = f\"{dir}facial_recognizer_encoder_lr0.0001_epoch228.pth\"\n",
    "    netE = load_classifier(netE, model_path)\n",
    "    classifier = Encoder_classifier(nch_in, ndim, nch, 4, \"instance\", ref_label.shape[1]).to(device)\n",
    "    classifier_layers = list(classifier.state_dict().keys())\n",
    "    netE.freeze_melt(classifier_layers, \"freeze\")\n",
    "    optE = optim.Adam(filter(lambda p: p.requires_grad, netE.parameters()), lr=0.001, betas=(0.5, 0.999))\n",
    "    netE.freeze_melt(classifier_layers, \"melt\");\n",
    "else:\n",
    "    optE = None\n",
    "netE = nn.DataParallel(netE, devices)"
   ]
  },
  {
   "cell_type": "markdown",
   "metadata": {},
   "source": [
    "## train"
   ]
  },
  {
   "cell_type": "code",
   "execution_count": 19,
   "metadata": {},
   "outputs": [],
   "source": [
    "lbd = {}\n",
    "lbd[\"class\"] = 1\n",
    "lbd[\"cycle\"] = 5\n",
    "lbd[\"idt\"] = 5\n",
    "lbd[\"reg\"] = 1\n",
    "lbd[\"idt_reg\"] = 1\n",
    "lbd[\"gp\"] = 0\n",
    "lbd[\"consis_reg\"] = 0\n",
    "\n",
    "if restriction_type == \"conventionalKL\":\n",
    "    lbd[\"KL\"] = 0.1\n",
    "    lbd[\"batch_KL\"] = 0\n",
    "    lbd[\"corr_enc\"] = 0\n",
    "    lbd[\"hist\"] = 0\n",
    "elif restriction_type == \"proposedKL\":\n",
    "    lbd[\"KL\"] = 0\n",
    "    lbd[\"batch_KL\"] = 10\n",
    "    lbd[\"corr_enc\"] = 100\n",
    "    lbd[\"hist\"] = 100\n",
    "    \n",
    "if (model_type==\"gradattention\") and (attention_mode==\"relumodified\"):\n",
    "    lbd[\"class_enc\"] = 10\n",
    "    lbd[\"attention\"] = 10000\n",
    "else:\n",
    "    lbd[\"class_enc\"] = 0\n",
    "    lbd[\"attention\"] = 0\n",
    "\n",
    "unrolled_k = 5"
   ]
  },
  {
   "cell_type": "code",
   "execution_count": 20,
   "metadata": {},
   "outputs": [
    {
     "data": {
      "text/plain": [
       "(40000, 40)"
      ]
     },
     "execution_count": 20,
     "metadata": {},
     "output_type": "execute_result"
    }
   ],
   "source": [
    "each_train_num = 10000\n",
    "batch_size = 128\n",
    "dataset = FaceDataset(root, label_root, transform[\"train\"], dataset_label, classes, data_type=\"train\", train_num=each_train_num, val_num=0, test_num=100)\n",
    "dataloader = torch.utils.data.DataLoader(dataset=dataset, batch_size=batch_size, shuffle=True)\n",
    "testset = FaceDataset(root, label_root, transform[\"test\"], dataset_label, classes, data_type=\"test\", train_num=each_train_num, val_num=0, test_num=10)\n",
    "sampleset = FaceDataset(root, label_root, transform[\"test\"], dataset_label, classes, data_type=\"test\", train_num=each_train_num, val_num=0, test_num=16)\n",
    "len(dataset), len(testset)"
   ]
  },
  {
   "cell_type": "code",
   "execution_count": 21,
   "metadata": {},
   "outputs": [],
   "source": [
    "sg = SRGAN_training([netG, netD, netE], [None, None, optE], [criterion, criterion_class], \n",
    "                       lbd, unrolled_k, device, ref_label, batch_size, encoded_feature, styleINdataset, ndim)\n",
    "sg.opt_sche_initialization()"
   ]
  },
  {
   "cell_type": "code",
   "execution_count": 22,
   "metadata": {},
   "outputs": [],
   "source": [
    "run_train = False\n",
    "if run_train:\n",
    "    interval = int(len(dataset)/batch_size/3) + 2\n",
    "    losses_D = []\n",
    "    losses_G = []\n",
    "    losses_E = []\n",
    "    for epoch in range(epoch_num):\n",
    "        start_time = time.time()\n",
    "        loss_D = []\n",
    "        loss_G = []\n",
    "        loss_E = []\n",
    "        for itr, data in enumerate(dataloader):\n",
    "            netG.train()\n",
    "            data_image = data[0]\n",
    "            data_label = data[1]\n",
    "\n",
    "            source_image = data_image.to(device)\n",
    "            label = {}\n",
    "\n",
    "            label[\"source\"] = data_label.to(device)\n",
    "            whole_target = get_target(data_label, classes, whole=False)\n",
    "\n",
    "            if styleINdataset:\n",
    "                a = np.argsort(np.array(data_label))\n",
    "                a_ = np.array(data_label)[a]\n",
    "                b = list(a_)\n",
    "                num = np.random.randint(1, len(classes))\n",
    "                c = list(a)[b.index(num):] + list(a)[:b.index(num)]\n",
    "                d = np.argsort(np.array(data_label))\n",
    "                random = np.argsort(d)\n",
    "                label[\"index\"] = c, random\n",
    "                label[\"target\"] = data_label[c][random]\n",
    "            else:\n",
    "                label[\"target\"] = torch.tensor(whole_target[:,0], dtype=torch.long, device=\"cpu\")\n",
    "\n",
    "            errG, errD, errE = sg.train(source_image, label)\n",
    "\n",
    "            if type(errD)!=int:\n",
    "                errD = errD.detach().to(\"cpu\").numpy()\n",
    "                loss_D.append(errD)\n",
    "            if type(errG)!=int:\n",
    "                errG = errG.detach().to(\"cpu\").numpy()\n",
    "                loss_G.append(errG)\n",
    "            if type(errE)!=int:\n",
    "                errE = errE.detach().to(\"cpu\").numpy()\n",
    "                loss_E.append(errE)\n",
    "\n",
    "            if itr%interval==0:\n",
    "                if not itr==0:\n",
    "                    clear_output(wait=True)\n",
    "                    print(f\"epoch {epoch} :itr {itr}/{int(len(dataset)/batch_size)}: {(time.time()-start_time)/60} mins\")\n",
    "                    fig = get_output_and_plot(sg, sampleset, 53, [classes, label_discription], 5, styleINdataset, device)\n",
    "\n",
    "                    if not epoch==0:\n",
    "                        length = 5\n",
    "                        width = 4\n",
    "                        losses = [losses_D, losses_G, losses_E]\n",
    "                        ax = fig.add_subplot(length, width, 17)\n",
    "                        models = [\"Discriminator\", \"Generator\", \"Encoder\"]\n",
    "                        for k in range(len(losses)):\n",
    "                            if models[k] == \"Discriminator\":\n",
    "                                if type(losses[k]) == dict:\n",
    "                                    for i in classes:\n",
    "                                        ax.plot(losses[k][i], label=f\"Discriminator-{i}\")\n",
    "                                elif type(losses[k]) == list:\n",
    "                                    ax.plot(losses[k], label=f\"Discriminator\")\n",
    "                            else:\n",
    "                                ax.plot(losses[k], label=models[k])\n",
    "                        ax.legend()\n",
    "                    plt.show()\n",
    "\n",
    "        if save_parameter:\n",
    "            if epoch % 3 == 0:\n",
    "\n",
    "                dir = \"./instant_model_parameter/\"\n",
    "                if model_type == \"nopretraining\":\n",
    "                    gen_path = dir + f\"gen_modified_SingleGAN_{styleINdataset_or_not}idt{lbd['idt']}_cycle{lbd['cycle']}_gp{lbd['gp']}_KL{lbd['KL']}_reg{lbd['reg']}_classenc{lbd['class_enc']}_idtreg{lbd['idt_reg']}_attention{lbd['attention']}_consisreg{lbd['consis_reg']}_unrolledk{unrolled_k}_epoch{epoch}\"\n",
    "                    dis_path = dir + f\"dis_modified_SingleGAN_{styleINdataset_or_not}idt{lbd['idt']}_cycle{lbd['cycle']}_gp{lbd['gp']}_KL{lbd['KL']}_reg{lbd['reg']}_classenc{lbd['class_enc']}_idtreg{lbd['idt_reg']}_attention{lbd['attention']}_consisreg{lbd['consis_reg']}_unrolledk{unrolled_k}_epoch{epoch}\"\n",
    "                    enc_path = dir + f\"enc_modified_SingleGAN_{styleINdataset_or_not}idt{lbd['idt']}_cycle{lbd['cycle']}_gp{lbd['gp']}_KL{lbd['KL']}_reg{lbd['reg']}_classenc{lbd['class_enc']}_idtreg{lbd['idt_reg']}_attention{lbd['attention']}_consisreg{lbd['consis_reg']}_unrolledk{unrolled_k}_epoch{epoch}\"\n",
    "\n",
    "                elif model_type == \"pretrained\":\n",
    "                    gen_path = dir + f\"gen_Style-RestrictedGAN_type-{model_type}_{styleINdataset_or_not}idt{lbd['idt']}_cycle{lbd['cycle']}_gp{lbd['gp']}_KL{lbd['KL']}_reg{lbd['reg']}_classenc{lbd['class_enc']}_idtreg{lbd['idt_reg']}_bKL{lbd['batch_KL']}_correnc{lbd['corr_enc']}_attention{lbd['attention']}_consisreg{lbd['consis_reg']}_hist{lbd['hist']}_unrolledk{unrolled_k}_epoch{epoch}\"\n",
    "                    dis_path = dir + f\"dis_Style-RestrictedGAN_type-{model_type}_{styleINdataset_or_not}idt{lbd['idt']}_cycle{lbd['cycle']}_gp{lbd['gp']}_KL{lbd['KL']}_reg{lbd['reg']}_classenc{lbd['class_enc']}_idtreg{lbd['idt_reg']}_bKL{lbd['batch_KL']}_correnc{lbd['corr_enc']}_attention{lbd['attention']}_consisreg{lbd['consis_reg']}_hist{lbd['hist']}_unrolledk{unrolled_k}_epoch{epoch}\"\n",
    "                    enc_path = dir + f\"enc_Style-RestrictedGAN_type-{model_type}_{styleINdataset_or_not}idt{lbd['idt']}_cycle{lbd['cycle']}_gp{lbd['gp']}_KL{lbd['KL']}_reg{lbd['reg']}_classenc{lbd['class_enc']}_idtreg{lbd['idt_reg']}_bKL{lbd['batch_KL']}_correnc{lbd['corr_enc']}_attention{lbd['attention']}_consisreg{lbd['consis_reg']}_hist{lbd['hist']}_unrolledk{unrolled_k}_epoch{epoch}\"\n",
    "\n",
    "                elif model_type == \"gradattention\":\n",
    "                    gen_path = dir + f\"gen_Style-RestrictedGAN_type-{model_type}-{attention_mode}_{styleINdataset_or_not}idt{lbd['idt']}_cycle{lbd['cycle']}_gp{lbd['gp']}_KL{lbd['KL']}_reg{lbd['reg']}_classenc{lbd['class_enc']}_idtreg{lbd['idt_reg']}_bKL{lbd['batch_KL']}_correnc{lbd['corr_enc']}_attention{lbd['attention']}_consisreg{lbd['consis_reg']}_hist{lbd['hist']}_unrolledk{unrolled_k}_epoch{epoch}\"\n",
    "                    dis_path = dir + f\"dis_Style-RestrictedGAN_type-{model_type}-{attention_mode}_{styleINdataset_or_not}idt{lbd['idt']}_cycle{lbd['cycle']}_gp{lbd['gp']}_KL{lbd['KL']}_reg{lbd['reg']}_classenc{lbd['class_enc']}_idtreg{lbd['idt_reg']}_bKL{lbd['batch_KL']}_correnc{lbd['corr_enc']}_attention{lbd['attention']}_consisreg{lbd['consis_reg']}_hist{lbd['hist']}_unrolledk{unrolled_k}_epoch{epoch}\"\n",
    "                    enc_path = dir + f\"enc_Style-RestrictedGAN_type-{model_type}-{attention_mode}_{styleINdataset_or_not}idt{lbd['idt']}_cycle{lbd['cycle']}_gp{lbd['gp']}_KL{lbd['KL']}_reg{lbd['reg']}_classenc{lbd['class_enc']}_idtreg{lbd['idt_reg']}_bKL{lbd['batch_KL']}_correnc{lbd['corr_enc']}_attention{lbd['attention']}_consisreg{lbd['consis_reg']}_hist{lbd['hist']}_unrolledk{unrolled_k}_epoch{epoch}\"\n",
    "\n",
    "                torch.save(sg.G.module.state_dict(), gen_path)\n",
    "                torch.save(sg.D.module.state_dict(), dis_path)\n",
    "                torch.save(sg.E.module.state_dict(), enc_path)\n",
    "\n",
    "\n",
    "        sg.scheD.step()\n",
    "        losses_D.append(np.mean(loss_D))\n",
    "        sg.scheG.step()\n",
    "        losses_G.append(np.mean(loss_G))\n",
    "        sg.scheE.step()\n",
    "        losses_E.append(np.mean(loss_E))\n",
    "\n",
    "        clear_output(wait=True)\n",
    "        print(f\"{epoch+1}: {(time.time()-start_time)/60} mins\")\n",
    "        fig = get_output_and_plot(sg, sampleset, 53, [classes, label_discription], 5, styleINdataset, device)\n",
    "\n",
    "        length = 5\n",
    "        width = 4\n",
    "        losses = [losses_D, losses_G, losses_E]\n",
    "        ax = fig.add_subplot(length, width, 17)\n",
    "        models = [\"Discriminator\", \"Generator\", \"Encoder\"]\n",
    "        for k in range(len(losses)):\n",
    "            if models[k] == \"Discriminator\":\n",
    "                if type(losses[k]) == dict:\n",
    "                    for i in classes:\n",
    "                        ax.plot(losses[k][i], label=f\"Discriminator-{i}\")\n",
    "                elif type(losses[k]) == list:\n",
    "                    ax.plot(losses[k], label=f\"Discriminator\")\n",
    "            else:\n",
    "                ax.plot(losses[k], label=models[k])\n",
    "        ax.legend()\n",
    "\n",
    "        plt.show()"
   ]
  }
 ],
 "metadata": {
  "kernelspec": {
   "display_name": "Python 3",
   "language": "python",
   "name": "python3"
  },
  "language_info": {
   "codemirror_mode": {
    "name": "ipython",
    "version": 3
   },
   "file_extension": ".py",
   "mimetype": "text/x-python",
   "name": "python",
   "nbconvert_exporter": "python",
   "pygments_lexer": "ipython3",
   "version": "3.6.9"
  },
  "toc-autonumbering": true,
  "toc-showcode": false
 },
 "nbformat": 4,
 "nbformat_minor": 4
}
