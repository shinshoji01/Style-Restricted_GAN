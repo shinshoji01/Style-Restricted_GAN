{
 "cells": [
  {
   "cell_type": "code",
   "execution_count": 1,
   "metadata": {},
   "outputs": [],
   "source": [
    "import glob\n",
    "import numpy as np\n",
    "from IPython.display import clear_output\n",
    "import pickle\n",
    "import shutil\n",
    "import os\n",
    "\n",
    "import sys\n",
    "sys.path.append(\"../pyfiles/\")\n",
    "from util import *"
   ]
  },
  {
   "cell_type": "markdown",
   "metadata": {},
   "source": [
    "# Introduction\n",
    "---\n",
    "In this notebook, I'm going to introduce how to download [CelebA dataset](http://mmlab.ie.cuhk.edu.hk/projects/CelebA.html) and how we preprocessed it for further usage.\n",
    "\n",
    "---"
   ]
  },
  {
   "cell_type": "markdown",
   "metadata": {},
   "source": [
    "# How to download CelebA dataset\n",
    "\n",
    "---\n",
    "1. visit [this website](http://mmlab.ie.cuhk.edu.hk/projects/CelebA.html).\n",
    "2. go down a little bit and click \"Align&Cropped Images\" as illustrated below.\n",
    "\n",
    "<img src=\"./../data/images/Align&CroppedImages.png\" width=\"500\">\n",
    "\n",
    "3. download two kinds of files:\n",
    "    1. all files in `dataset/CelebA/Img/img_align_celeba_pbg.7z/`, ex.`img_align_celeba_plb.7z.001`.\n",
    "    2. `list_attr_celeba.txt` in `dataset/CelebA/Anno/`\n",
    "4. click one of files downloded in 3-A to defrost these files, and you're able to access the folder named `img_align_celeba_png`.\n",
    "5. to use my dataset easily, create the folder named `celebA` in `Latent_Conditional_GAN/data/`, and relocate `img_align_celeba_png/` and `list_attr_celeba.txt` into inside the folder.\n",
    "---"
   ]
  },
  {
   "cell_type": "markdown",
   "metadata": {},
   "source": [
    "# Creation of Label Folder\n",
    "---\n",
    "In order to use my dataset (this indicates the dataset for PyTorch implementation) for celebA dataset,\n",
    "`label_folder` needs to be generated.\n",
    "You can create it with the code below.\n",
    "\n",
    "At first, you need to navigate `label_list_path` to the path of `list_attr_celeba.txt`.\n",
    "And navigate `save_label_folder_dir` to the location you would like put a `label folder`\n",
    "\n",
    "---"
   ]
  },
  {
   "cell_type": "code",
   "execution_count": 5,
   "metadata": {},
   "outputs": [],
   "source": [
    "label_list_path = \"../../dataset/celebA/list_attr_celeba.txt\"\n",
    "save_label_folder_dir = \"../../dataset/celebA/\""
   ]
  },
  {
   "cell_type": "code",
   "execution_count": 6,
   "metadata": {},
   "outputs": [
    {
     "name": "stdout",
     "output_type": "stream",
     "text": [
      "202000 / 202599\n"
     ]
    }
   ],
   "source": [
    "start = 0\n",
    "with open(label_list_path, \"r\") as f:\n",
    "    f.readline()\n",
    "    f.readline()\n",
    "    shutil.rmtree(save_label_folder_dir+\"label_folder/\", ignore_errors=True)\n",
    "    os.makedirs(save_label_folder_dir+\"label_folder/\", exist_ok=True)\n",
    "    for i in range(202599):\n",
    "        if (i+1) % 2000 == 0:\n",
    "            clear_output(wait=True)\n",
    "            print(f\"{i+1} / 202599\")\n",
    "        line = f.readline()\n",
    "        line = line.split()\n",
    "        if i % 5000 == 0:\n",
    "            info = np.array(line)\n",
    "        else:\n",
    "            info = np.append(info, np.array(line))\n",
    "        if i % 5000 == 4999:\n",
    "            if i != 0:\n",
    "                path = f\"{save_label_folder_dir}label_folder/{str(start).zfill(6)}_to_{str(i).zfill(6)}.pkl\"\n",
    "                info = np.reshape(info, (-1, 41))\n",
    "                info = np.array(info, dtype=\"<U15\")\n",
    "                pickle_save(info, path)\n",
    "                start = i+1\n",
    "    path = f\"{save_label_folder_dir}label_folder/{str(start).zfill(6)}_to_{str(i).zfill(6)}.pkl\"\n",
    "    info = np.reshape(info, (-1, 41))\n",
    "    info = np.array(info, dtype=\"<U15\")\n",
    "    pickle_save(info, path)\n",
    "    start = i+1"
   ]
  },
  {
   "cell_type": "markdown",
   "metadata": {},
   "source": [
    "---\n",
    "Thank you for runnning the code above, so now, you can run my notebooks in your own evironment.\n",
    "\n",
    "\n",
    "---"
   ]
  }
 ],
 "metadata": {
  "kernelspec": {
   "display_name": "Python 3",
   "language": "python",
   "name": "python3"
  },
  "language_info": {
   "codemirror_mode": {
    "name": "ipython",
    "version": 3
   },
   "file_extension": ".py",
   "mimetype": "text/x-python",
   "name": "python",
   "nbconvert_exporter": "python",
   "pygments_lexer": "ipython3",
   "version": "3.6.9"
  },
  "toc-autonumbering": true
 },
 "nbformat": 4,
 "nbformat_minor": 4
}
