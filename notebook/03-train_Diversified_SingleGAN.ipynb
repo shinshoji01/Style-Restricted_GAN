{
 "cells": [
  {
   "cell_type": "code",
   "execution_count": 153,
   "metadata": {},
   "outputs": [],
   "source": [
    "import warnings\n",
    "warnings.filterwarnings(\"ignore\")\n",
    "import glob\n",
    "import torch\n",
    "import time\n",
    "import torch.nn as nn\n",
    "import torch.optim as optim\n",
    "import torch.nn.functional as F\n",
    "import torchvision\n",
    "import numpy as np\n",
    "import matplotlib.pyplot as plt\n",
    "import torch.utils.data\n",
    "import torchvision.transforms as transforms\n",
    "from torch.autograd import Variable\n",
    "from PIL import Image\n",
    "from IPython.display import clear_output"
   ]
  },
  {
   "cell_type": "code",
   "execution_count": 154,
   "metadata": {},
   "outputs": [],
   "source": [
    "import plotly\n",
    "from plotly.offline import iplot\n",
    "import plotly.graph_objs as go"
   ]
  },
  {
   "cell_type": "code",
   "execution_count": 155,
   "metadata": {},
   "outputs": [
    {
     "data": {
      "text/html": [
       "        <script type=\"text/javascript\">\n",
       "        window.PlotlyConfig = {MathJaxConfig: 'local'};\n",
       "        if (window.MathJax) {MathJax.Hub.Config({SVG: {font: \"STIX-Web\"}});}\n",
       "        if (typeof require !== 'undefined') {\n",
       "        require.undef(\"plotly\");\n",
       "        requirejs.config({\n",
       "            paths: {\n",
       "                'plotly': ['https://cdn.plot.ly/plotly-latest.min']\n",
       "            }\n",
       "        });\n",
       "        require(['plotly'], function(Plotly) {\n",
       "            window._Plotly = Plotly;\n",
       "        });\n",
       "        }\n",
       "        </script>\n",
       "        "
      ]
     },
     "metadata": {},
     "output_type": "display_data"
    }
   ],
   "source": [
    "plotly.offline.init_notebook_mode(connected=True)"
   ]
  },
  {
   "cell_type": "code",
   "execution_count": 156,
   "metadata": {},
   "outputs": [],
   "source": [
    "import sys\n",
    "sys.path.append(\"../pyfiles/\")\n",
    "from util import * \n",
    "from dataset import * \n",
    "from model import * "
   ]
  },
  {
   "cell_type": "markdown",
   "metadata": {},
   "source": [
    "# Get celebA dataset"
   ]
  },
  {
   "cell_type": "code",
   "execution_count": 157,
   "metadata": {},
   "outputs": [],
   "source": [
    "label_discription = [\n",
    "    \"male, smiling\",\n",
    "    \"male, not smiling\",\n",
    "    \"female, smiling\",\n",
    "    \"female, not smiling\"\n",
    "]"
   ]
  },
  {
   "cell_type": "code",
   "execution_count": 158,
   "metadata": {},
   "outputs": [],
   "source": [
    "root = \"./../../dataset/celebA/img/\"\n",
    "label_root = \"./../../dataset/celebA/label_folder/\""
   ]
  },
  {
   "cell_type": "code",
   "execution_count": 159,
   "metadata": {},
   "outputs": [],
   "source": [
    "# 1 5 o clock shadow\n",
    "# 11 blurry\n",
    "# 14 chubby\n",
    "# 15 double chin\n",
    "# 16 eyeglasses\n",
    "# 17 goatee\n",
    "# 21 male\n",
    "# 23 mustache\n",
    "# 25 No_Beard\n",
    "# 31 sideburns\n",
    "# 32 smiling\n",
    "# 36 wearing hat\n",
    "# 40 young\n",
    "dataset_label = {}\n",
    "dataset_label[\"existed\"] = [25] \n",
    "dataset_label[\"delete\"] = [1, 11, 14, 15, 16, 17, 23, 31, 36] \n",
    "dataset_label[\"class\"] = [21, 32] "
   ]
  },
  {
   "cell_type": "code",
   "execution_count": 160,
   "metadata": {},
   "outputs": [
    {
     "data": {
      "text/plain": [
       "(0, 1, 2, 3)"
      ]
     },
     "execution_count": 160,
     "metadata": {},
     "output_type": "execute_result"
    }
   ],
   "source": [
    "classes = tuple(range(2**len(dataset_label[\"class\"])))\n",
    "cl = get_class_label(len(dataset_label[\"class\"]))\n",
    "classes"
   ]
  },
  {
   "cell_type": "code",
   "execution_count": 161,
   "metadata": {},
   "outputs": [],
   "source": [
    "normalize = transforms.Normalize(\n",
    "        mean=[0.485, 0.456, 0.406],\n",
    "        std=[0.229, 0.224, 0.225])\n",
    "\n",
    "class MinMax(object):\n",
    "    def __init__(self, mean0=True):\n",
    "        self.mean0 = mean0\n",
    "        pass\n",
    "    def __call__(self, img):\n",
    "        return torch.Tensor(min_max(cuda2numpy(img), mean0=self.mean0))\n",
    "    def __repr__(self):\n",
    "        return self.__class__.__name__\n",
    "\n",
    "transform = {}\n",
    "transform[\"train\"] = transforms.Compose([\n",
    "    transforms.CenterCrop((178, 178)),\n",
    "    transforms.Resize((128, 128)),\n",
    "    transforms.RandomHorizontalFlip(p=0.5),\n",
    "    transforms.ToTensor(),\n",
    "    MinMax(True)\n",
    "])\n",
    "    \n",
    "transform[\"test\"] = transforms.Compose([\n",
    "    transforms.CenterCrop((178, 178)),\n",
    "    transforms.Resize((128, 128)),\n",
    "    transforms.ToTensor(),\n",
    "    MinMax(True)\n",
    "])"
   ]
  },
  {
   "cell_type": "code",
   "execution_count": 162,
   "metadata": {},
   "outputs": [
    {
     "data": {
      "text/plain": [
       "(134530, 400)"
      ]
     },
     "execution_count": 162,
     "metadata": {},
     "output_type": "execute_result"
    }
   ],
   "source": [
    "each_train_num = 10000000\n",
    "each_val_num = 0\n",
    "each_test_num = 100\n",
    "dataset = FaceDataset(root, label_root, transform[\"train\"], dataset_label, classes, data_type=\"train\", train_num=each_train_num, val_num=each_val_num, test_num=each_test_num)\n",
    "dataloader = torch.utils.data.DataLoader(dataset=dataset, batch_size=256, shuffle=True)\n",
    "testset = FaceDataset(root, label_root, transform[\"test\"], dataset_label, classes, data_type=\"test\", train_num=each_train_num, val_num=each_val_num, test_num=each_test_num)\n",
    "len(dataset), len(testset)"
   ]
  },
  {
   "cell_type": "code",
   "execution_count": 163,
   "metadata": {},
   "outputs": [
    {
     "name": "stdout",
     "output_type": "stream",
     "text": [
      "0\n"
     ]
    },
    {
     "data": {
      "text/plain": [
       "<matplotlib.image.AxesImage at 0x7fc2ee447ac8>"
      ]
     },
     "execution_count": 163,
     "metadata": {},
     "output_type": "execute_result"
    },
    {
     "data": {
      "image/png": "[encoded data removed]",
      "text/plain": [
       "<Figure size 432x288 with 1 Axes>"
      ]
     },
     "metadata": {
      "needs_background": "light"
     },
     "output_type": "display_data"
    }
   ],
   "source": [
    "data = dataloader.dataset[24]\n",
    "img = data[0]\n",
    "image = image_from_output(torch.reshape(img, (1,img.shape[0],img.shape[1],img.shape[2])))[0]\n",
    "print(data[1])\n",
    "plt.imshow(image)"
   ]
  },
  {
   "cell_type": "markdown",
   "metadata": {},
   "source": [
    "## Algorithm"
   ]
  },
  {
   "cell_type": "raw",
   "metadata": {},
   "source": [
    "def standardize_torch(x):\n",
    "    xmean = torch.mean(x, dim=(1,2,3), keepdim=True)\n",
    "    xstd = torch.std(x, dim=(1,2,3), keepdim=True)\n",
    "    new_x = (x-xmean)/xstd\n",
    "    return new_x "
   ]
  },
  {
   "cell_type": "code",
   "execution_count": 164,
   "metadata": {},
   "outputs": [],
   "source": [
    "class SingleGAN_training():\n",
    "    def __init__(self, net, opt, criterion, lbd, unrolled_k, evice, ref_label,\n",
    "                 batch_size=64, encoded_feature=\"latent\", styleINdataset=True):\n",
    "        self.G, self.D, self.E = net[0].to(device), net[1].to(device), net[2].to(device)\n",
    "        self.optG, self.optD, self.optE = opt[0], opt[1], opt[2]\n",
    "        self.scheG, self.scheD, self.scheE = None, None, None\n",
    "        self.criterion, self.criterion_class = criterion\n",
    "        self.lbd = lbd\n",
    "        self.k = unrolled_k\n",
    "        self.device = device\n",
    "        self.ref_label = ref_label\n",
    "        self.n_batch = batch_size\n",
    "        self.encoded_feature = encoded_feature\n",
    "        self.styleINdataset = styleINdataset\n",
    "        self.source_image = None\n",
    "        self.target_image = None\n",
    "        self.recon_image = None\n",
    "        self.label = None\n",
    "        self.c_rand = None\n",
    "        self.enc_info = None\n",
    "        self.target_cenc = None\n",
    "    \n",
    "    def opt_sche_initialization(self, lr=[0.0001, 0.0001, 0.0001]):\n",
    "        lr_G, lr_D, lr_E = lr\n",
    "        if self.optG==None:\n",
    "            self.optG = optim.Adam(self.G.parameters(), lr=lr_G, betas=(0.5, 0.999))\n",
    "        self.scheG = optim.lr_scheduler.ExponentialLR(self.optG, gamma=0.95)\n",
    "        if self.optD==None:\n",
    "            self.optD = optim.Adam(self.D.parameters(), lr=lr_D, betas=(0.5, 0.999))\n",
    "        self.scheD = optim.lr_scheduler.ExponentialLR(self.optD, gamma=0.95)\n",
    "        if self.optE==None:\n",
    "            self.optE = optim.Adam(self.E.parameters(), lr=lr_E, betas=(0.5, 0.999))\n",
    "        self.scheE = optim.lr_scheduler.ExponentialLR(self.optE, gamma=0.95)\n",
    "        return\n",
    "        \n",
    "    def G_transformation(self, target_label, source_image, encoder=False, ref_image=None):\n",
    "        if encoder:\n",
    "            latent, mu, logvar, class_output, attention = self.E(ref_image)\n",
    "            info = [latent, mu, logvar, class_output, attention]\n",
    "            if self.encoded_feature == \"latent\":\n",
    "                latent_vector = latent\n",
    "            elif self.encoded_feature == \"mu\":\n",
    "                latent_vector = mu\n",
    "                \n",
    "        else:\n",
    "            latent_vector = torch.randn(source_image.shape[0], ndim).to(device)\n",
    "            info = latent_vector\n",
    "            \n",
    "        class_vector = class_encode(target_label, self.device, self.ref_label)\n",
    "        class_vector = torch.cat([class_vector, latent_vector], 1)\n",
    "        target_image = self.G(source_image, class_vector)\n",
    "        \n",
    "        return target_image, info\n",
    "        \n",
    "    def update_D(self):\n",
    "        self.D.zero_grad()\n",
    "        if styleINdataset:\n",
    "            c, random = self.label[\"index\"]\n",
    "            self.target_image, [_,self.c_rand,_,_,_] = self.G_transformation(self.label[\"target\"], self.source_image, True, self.source_image[c][random])\n",
    "        else:\n",
    "            self.target_image, self.c_rand = self.G_transformation(self.label[\"target\"], self.source_image, False)\n",
    "        \n",
    "        errD = 0\n",
    "        # real image\n",
    "        output, output_class = self.D(self.source_image)\n",
    "        errD_real = get_loss_D(output, 1., criterion, device)\n",
    "        errD_class = get_domainloss_D(output_class, class_encode(label[\"source\"], self.device, self.ref_label), criterion_class)\n",
    "        errD += errD_real + errD_class*self.lbd[\"class\"]\n",
    "\n",
    "        # fake image\n",
    "        output, output_class = self.D(self.target_image.detach())\n",
    "        errD_fake = get_loss_D(output, 0., criterion, device)\n",
    "        errD += errD_fake\n",
    "\n",
    "        # gradient penalty\n",
    "        if self.lbd[\"gp\"] > 0:\n",
    "            errD_gp = get_gradient_penalty(self.D, self.source_image, self.target_image.detach())\n",
    "            errD += errD_gp * self.lbd[\"gp\"]\n",
    "            \n",
    "        errD.backward()\n",
    "        self.optD.step()\n",
    "        return errD\n",
    "    \n",
    "    def update_GandE(self):\n",
    "        self.G.zero_grad()\n",
    "        self.E.zero_grad()\n",
    "\n",
    "        errG = 0\n",
    "        errE = 0\n",
    "        errE_output = 0\n",
    "\n",
    "        ## ordinary SingleGAN loss\n",
    "        recon_image, source_enc_info = self.G_transformation(self.label[\"source\"], self.target_image, True, self.source_image)\n",
    "        output, output_class = self.D(self.target_image)\n",
    "        errG_dis = get_loss_D(output, 1., criterion, device)\n",
    "        errG_class = get_domainloss_D(output_class, class_encode(self.label[\"target\"], self.device, self.ref_label), criterion_class)\n",
    "        errG_cycle = torch.mean(torch.abs(self.source_image - recon_image))\n",
    "        errG += errG_dis + errG_class*self.lbd[\"class\"] + errG_cycle*self.lbd[\"cycle\"]\n",
    "        errE_output += errG_cycle * self.lbd[\"cycle\"]\n",
    "        \n",
    "        ## multimodal transformation (KL): Conventional KL\n",
    "        if self.lbd[\"KL\"] > 0:\n",
    "            _, mu, logvar, _, _ = source_enc_info\n",
    "            errE_KL = -0.5 * torch.sum(1 + logvar - mu**2 - logvar.exp_()) \n",
    "            errE += errE_KL*self.lbd[\"KL\"]\n",
    "            errE_output += errE_KL*self.lbd[\"KL\"]\n",
    "            \n",
    "        ## Identity loss under source style condition\n",
    "        if self.lbd[\"idt\"] > 0:\n",
    "            identity_image, _ = self.G_transformation(self.label[\"source\"], self.source_image, True, self.source_image)\n",
    "            errG_idt = torch.mean(torch.abs(self.source_image - identity_image))\n",
    "            errG += errG_idt*self.lbd[\"idt\"]\n",
    "            errE_output += errG_idt*self.lbd[\"idt\"]\n",
    "            \n",
    "        ## encoder attention loss\n",
    "        if self.lbd[\"attention\"] > 0:\n",
    "            _, _, _, _, attention = source_enc_info\n",
    "            errE_att = get_focus_loss(attention, lbd=1)\n",
    "            errE += errE_att*self.lbd[\"attention\"]\n",
    "            errE_output += errE_att*self.lbd[\"attention\"]\n",
    "        \n",
    "        ## encoder classification loss\n",
    "        if self.lbd[\"class_enc\"] > 0:\n",
    "            _, _, _, output_class_enc, _ = source_enc_info\n",
    "            errE_class_enc = get_domainloss_D([output_class_enc], class_encode(self.label[\"source\"], self.device, self.ref_label), criterion_class)\n",
    "            errE += errE_class_enc*self.lbd[\"class_enc\"]\n",
    "            errE_output += errE_class_enc*self.lbd[\"class_enc\"]\n",
    "            \n",
    "        ## batch size KL\n",
    "        if self.lbd[\"batch_KL\"] > 0:\n",
    "            _, mu, _, _, _ = source_enc_info\n",
    "            var = torch.var(mu, dim=0)*self.n_batch/(self.n_batch-1)\n",
    "            mean = torch.mean(mu, dim=0)\n",
    "            errE_bKL = -0.5 * torch.sum(1 + torch.log(var) - mean**2 - var) \n",
    "            errE += errE_bKL*self.lbd[\"batch_KL\"]\n",
    "            errE_output += errE_bKL*self.lbd[\"batch_KL\"]\n",
    "            \n",
    "        ## correlative loss\n",
    "            if self.lbd[\"corr_enc\"] > 0:\n",
    "                errE_corr = corrcoef_loss(mu.T, self.device)\n",
    "                errE += errE_corr*self.lbd[\"corr_enc\"]\n",
    "                errE_output += errE_corr*self.lbd[\"corr_enc\"]\n",
    "                \n",
    "        ## histgram imitation loss\n",
    "            if self.lbd[\"hist\"] > 0:\n",
    "                errE_hist = hi.loss(mu)\n",
    "                errE += errE_hist*self.lbd[\"hist\"]\n",
    "                errE_output += errE_hist*self.lbd[\"hist\"]\n",
    "                \n",
    "        ## Consistency Regularization\n",
    "        if self.lbd[\"consis_reg\"] > 0:\n",
    "            augmented = get_augmented_image(self.source_image, augment)\n",
    "            _, augmented_mu, _, _, _ = self.E(augmented)\n",
    "            _, source_mu, _, _, _ = source_enc_info\n",
    "            \n",
    "            errE_consis_reg = torch.mean(torch.abs(augmented_mu - source_mu)*2)\n",
    "            errE += errE_consis_reg*self.lbd[\"consis_reg\"]\n",
    "            errE_output += errE_consis_reg*self.lbd[\"consis_reg\"]\n",
    "        \n",
    "        errG.backward(retain_graph=True)\n",
    "        errE.backward(retain_graph=True)\n",
    "        self.optG.step()\n",
    "        self.optE.step()\n",
    "        \n",
    "        ########################### update exclusively G ###########################\n",
    "        self.G.zero_grad()\n",
    "        self.E.zero_grad()\n",
    "        \n",
    "        errG_ex = 0\n",
    "        ## multimodal transformation (regression loss)\n",
    "        _, target_cenc, _, _, _ = self.E(self.target_image)\n",
    "        errG_reg = torch.mean(torch.abs(self.c_rand - target_cenc))\n",
    "        errG_ex += errG_reg * self.lbd[\"reg\"]\n",
    "        \n",
    "        ## multimodal transformation (regression loss for identity images)\n",
    "        if self.lbd[\"idt_reg\"]*self.lbd[\"idt\"] > 0:\n",
    "            errG_idt_reg = 0\n",
    "            \n",
    "            ## random condition\n",
    "            if styleINdataset:\n",
    "                idt_random_image, [_,source_c_rand,_,_,_] = self.G_transformation(self.label[\"source\"], self.source_image, True, self.source_image)\n",
    "            else:\n",
    "                idt_random_image, source_c_rand = self.G_transformation(self.label[\"source\"], self.source_image, False)\n",
    "            _, idt_cenc_rand, _, _, _ = self.E(idt_random_image)\n",
    "            errG_idt_reg += torch.mean(torch.abs(source_c_rand - idt_cenc_rand))\n",
    "            errG_ex += errG_idt_reg * self.lbd[\"idt_reg\"] * (self.lbd[\"idt\"]/self.lbd[\"cycle\"])\n",
    "            \n",
    "        errG_ex.backward()\n",
    "        self.optG.step()\n",
    "        \n",
    "        errG += errG_ex\n",
    "        \n",
    "        return [errG, errE_output]\n",
    "    \n",
    "    def UnrolledUpdate(self):\n",
    "        for i in range(self.k):\n",
    "\n",
    "            # update D\n",
    "            errD = self.update_D()\n",
    "            if i==0:\n",
    "                paramD = self.D.state_dict()\n",
    "                errorD = errD\n",
    "\n",
    "        # update G\n",
    "        errorG, errorE = self.update_GandE()\n",
    "\n",
    "        self.D.load_state_dict(paramD)\n",
    "        return [errorG, errorD, errorE]\n",
    "        \n",
    "    def train(self, source_image, label):\n",
    "        self.source_image = source_image\n",
    "        self.label = label\n",
    "        error = self.UnrolledUpdate()\n",
    "        return error"
   ]
  },
  {
   "cell_type": "markdown",
   "metadata": {
    "toc-hr-collapsed": false
   },
   "source": [
    "# conditional GAN"
   ]
  },
  {
   "cell_type": "code",
   "execution_count": 165,
   "metadata": {},
   "outputs": [
    {
     "data": {
      "text/plain": [
       "'cuda'"
      ]
     },
     "execution_count": 165,
     "metadata": {},
     "output_type": "execute_result"
    }
   ],
   "source": [
    "epoch_num = 31\n",
    "lr_D = 0.0001\n",
    "lr_G = 0.0002\n",
    "lr_E = 0.001\n",
    "# torch.cuda.set_device(\"cuda:4\")\n",
    "device = \"cuda\" if torch.cuda.is_available() else \"cpu\"\n",
    "device"
   ]
  },
  {
   "cell_type": "code",
   "execution_count": 174,
   "metadata": {},
   "outputs": [],
   "source": [
    "# ---- adjustable parameters ---- #\n",
    "ndim = 8 # the dimension of noise vector, indicating the style\n",
    "nch_in = 3\n",
    "nch = 64\n",
    "reduce = 2\n",
    "num_cls = 2\n",
    "res_num = 6\n",
    "dis_reduce = 2\n",
    "dis_nch = 64\n",
    "dis_num_cls = 4\n",
    "\n",
    "model_type = \"nopretraining\" # \"nopretraining\", \"gradattention\", \"pretrained\"\n",
    "attention_mode = \"relu\" # this will be available when you set 'model_type' as \"gradattention\": \"relu\", \"relumodified\"\n",
    "restriction_type = \"proposedKL\" # \"conventionalKL\", \"proposedKL\"\n",
    "styleINdataset = False\n",
    "save_parameter = True\n",
    "###################################\n",
    "\n",
    "ref_label = np.eye(len(classes))\n",
    "if restriction_type == \"conventionalKL\":\n",
    "    encoded_feature = \"latent\" # \"latent\" or \"mu\"\n",
    "elif restriction_type == \"proposedKL\":\n",
    "    encoded_feature = \"mu\" # \"latent\" or \"mu\"\n",
    "if styleINdataset:\n",
    "    styleINdataset_or_not = \"styleINdataset_\"\n",
    "else:\n",
    "    styleINdataset_or_not = \"\"\n",
    "hi = histogram_imitation(device)"
   ]
  },
  {
   "cell_type": "code",
   "execution_count": 175,
   "metadata": {},
   "outputs": [],
   "source": [
    "devices = [0,1,2,3]\n",
    "netG = SingleGenerator(nch_in, nch, reduce, num_cls, res_num, \"instance\", num_con=ref_label.shape[1]+ndim).to(device)\n",
    "netG.apply(weights_init)\n",
    "netG = nn.DataParallel(netG, devices)\n",
    "netD = SingleDiscriminator_solo_multi(nch_in, dis_nch, dis_reduce, dis_num_cls, \"instance\", ref_label.shape[1]).to(device)\n",
    "netD.apply(weights_init)\n",
    "netD = nn.DataParallel(netD, devices)\n",
    "if model_type in [\"nopretraining\", \"pretrained\"]:\n",
    "    netE = Encoder(nch_in, ndim, nch, 4, \"instance\", ref_label.shape[1]).to(device)\n",
    "elif model_type==\"gradattention\":\n",
    "    netE = Encoder_gradattention(nch_in, ndim, nch, 4, \"instance\", ref_label.shape[1], attention_mode).to(device)\n",
    "netE.apply(weights_init);"
   ]
  },
  {
   "cell_type": "code",
   "execution_count": 176,
   "metadata": {},
   "outputs": [],
   "source": [
    "if model_type in [\"gradattention\", \"pretrained\"]:\n",
    "    model_path = f\"./model_parameters/Mpaper/72/facial_recognizer_lr0.0001_epoch51.pth\"\n",
    "    netE = load_classifier(netE, model_path)\n",
    "    classifier = Encoder_classifier(nch_in, ndim, nch, 4, norm_type, ref_label.shape[1]).to(device)\n",
    "    classifier_layers = list(classifier.state_dict().keys())\n",
    "    netE.freeze_melt(classifier_layers, \"freeze\")\n",
    "    optE = optim.Adam(filter(lambda p: p.requires_grad, netE.parameters()), lr=0.001, betas=(0.5, 0.999))\n",
    "    netE.freeze_melt(classifier_layers, \"melt\");\n",
    "else:\n",
    "    optE = None\n",
    "netE = nn.DataParallel(netE, devices)"
   ]
  },
  {
   "cell_type": "code",
   "execution_count": 177,
   "metadata": {},
   "outputs": [],
   "source": [
    "criterion = nn.MSELoss()\n",
    "criterion_class = nn.MSELoss()"
   ]
  },
  {
   "cell_type": "markdown",
   "metadata": {},
   "source": [
    "## train"
   ]
  },
  {
   "cell_type": "code",
   "execution_count": 178,
   "metadata": {},
   "outputs": [],
   "source": [
    "lbd = {}\n",
    "lbd[\"class\"] = 1\n",
    "lbd[\"cycle\"] = 5\n",
    "lbd[\"idt\"] = 5\n",
    "lbd[\"reg\"] = 0.5\n",
    "lbd[\"idt_reg\"] = 0.5\n",
    "lbd[\"gp\"] = 0\n",
    "lbd[\"consis_reg\"] = 0\n",
    "\n",
    "if restriction_type == \"conventionalKL\":\n",
    "    lbd[\"KL\"] = 0.1\n",
    "    lbd[\"batch_KL\"] = 0\n",
    "    lbd[\"corr_enc\"] = 0\n",
    "    lbd[\"hist\"] = 0\n",
    "elif restriction_type == \"proposedKL\":\n",
    "    lbd[\"KL\"] = 0\n",
    "    lbd[\"batch_KL\"] = 10\n",
    "    lbd[\"corr_enc\"] = 100\n",
    "    lbd[\"hist\"] = 100\n",
    "    \n",
    "if (model_type==\"gradattention\") and (attention_mode==\"relumodified\"):\n",
    "    lbd[\"class_enc\"] = 10\n",
    "    lbd[\"attention\"] = 1000\n",
    "else:\n",
    "    lbd[\"class_enc\"] = 0\n",
    "    lbd[\"attention\"] = 0\n",
    "\n",
    "unrolled_k = 5"
   ]
  },
  {
   "cell_type": "code",
   "execution_count": 179,
   "metadata": {},
   "outputs": [
    {
     "data": {
      "text/plain": [
       "(40000, 64)"
      ]
     },
     "execution_count": 179,
     "metadata": {},
     "output_type": "execute_result"
    }
   ],
   "source": [
    "each_train_num = 10000\n",
    "batch_size = 128\n",
    "dataset = FaceDataset(root, label_root, transform[\"train\"], dataset_label, classes, data_type=\"train\", train_num=each_train_num, val_num=0, test_num=100)\n",
    "dataloader = torch.utils.data.DataLoader(dataset=dataset, batch_size=batch_size, shuffle=True)\n",
    "sampleset = FaceDataset(root, label_root, transform[\"test\"], dataset_label, classes, data_type=\"test\", train_num=each_train_num, val_num=0, test_num=16)\n",
    "len(dataset), len(sampleset)"
   ]
  },
  {
   "cell_type": "code",
   "execution_count": 180,
   "metadata": {},
   "outputs": [],
   "source": [
    "sg = SRGAN_training([netG, netD, netE], [None, None, optE], [criterion, criterion_class], \n",
    "                       lbd, unrolled_k, device, ref_label, batch_size, encoded_feature, styleINdataset, ndim)\n",
    "sg.opt_sche_initialization()"
   ]
  },
  {
   "cell_type": "code",
   "execution_count": 21,
   "metadata": {},
   "outputs": [],
   "source": [
    "run_train = False\n",
    "if run_train:\n",
    "    interval = int(len(dataset)/batch_size/3) + 2\n",
    "    losses_D = []\n",
    "    losses_G = []\n",
    "    losses_E = []\n",
    "    for epoch in range(epoch_num):\n",
    "        start_time = time.time()\n",
    "        loss_D = []\n",
    "        loss_G = []\n",
    "        loss_E = []\n",
    "        for itr, data in enumerate(dataloader):\n",
    "            netG.train()\n",
    "            data_image = data[0]\n",
    "            data_label = data[1]\n",
    "\n",
    "            source_image = data_image.to(device)\n",
    "            label = {}\n",
    "\n",
    "            label[\"source\"] = data_label.to(device)\n",
    "            whole_target = get_target(data_label, classes, whole=False)\n",
    "\n",
    "            if styleINdataset:\n",
    "                a = np.argsort(np.array(data_label))\n",
    "                a_ = np.array(data_label)[a]\n",
    "                b = list(a_)\n",
    "                num = np.random.randint(1, 4)\n",
    "                c = list(a)[b.index(num):] + list(a)[:b.index(num)]\n",
    "                d = np.argsort(np.array(data_label))\n",
    "                random = np.argsort(d)\n",
    "                label[\"index\"] = c, random\n",
    "                label[\"target\"] = data_label[c][random]\n",
    "            else:\n",
    "                label[\"target\"] = torch.tensor(whole_target[:,0], dtype=torch.long, device=\"cpu\")\n",
    "\n",
    "            errG, errD, errE = sg.train(source_image, label)\n",
    "\n",
    "            if type(errD)!=int:\n",
    "                errD = errD.detach().to(\"cpu\").numpy()\n",
    "                loss_D.append(errD)\n",
    "            if type(errG)!=int:\n",
    "                errG = errG.detach().to(\"cpu\").numpy()\n",
    "                loss_G.append(errG)\n",
    "            if type(errE)!=int:\n",
    "                errE = errE.detach().to(\"cpu\").numpy()\n",
    "                loss_E.append(errE)\n",
    "\n",
    "            if itr%interval==0:\n",
    "                if not itr==0:\n",
    "                    clear_output(wait=True)\n",
    "                    print(f\"epoch {epoch} :itr {itr}/{int(len(dataset)/batch_size)}: {(time.time()-start_time)/60} mins\")\n",
    "                    fig = get_output_and_plot(sg, sampleset, 53, [classes, label_discription], 5, styleINdataset, device)\n",
    "\n",
    "                    if not epoch==0:\n",
    "                        length = 5\n",
    "                        width = 4\n",
    "                        losses = [losses_D, losses_G, losses_E]\n",
    "                        ax = fig.add_subplot(length, width, 17)\n",
    "                        models = [\"Discriminator\", \"Generator\", \"Encoder\"]\n",
    "                        for k in range(len(losses)):\n",
    "                            if models[k] == \"Discriminator\":\n",
    "                                if type(losses[k]) == dict:\n",
    "                                    for i in classes:\n",
    "                                        ax.plot(losses[k][i], label=f\"Discriminator-{i}\")\n",
    "                                elif type(losses[k]) == list:\n",
    "                                    ax.plot(losses[k], label=f\"Discriminator\")\n",
    "                            else:\n",
    "                                ax.plot(losses[k], label=models[k])\n",
    "                        ax.legend()\n",
    "                    plt.show()\n",
    "\n",
    "        if save_parameter:\n",
    "            if epoch % 3 == 0:\n",
    "\n",
    "                dir = \"./instant_model_parameter/\"\n",
    "                if model_type == \"nopretraining\":\n",
    "                    gen_path = dir + f\"gen_modified_SingleGAN_{styleINdataset_or_not}idt{lbd['idt']}_cycle{lbd['cycle']}_gp{lbd['gp']}_KL{lbd['KL']}_reg{lbd['reg']}_classenc{lbd['class_enc']}_idtreg{lbd['idt_reg']}_attention{lbd['attention']}_consisreg{lbd['consis_reg']}_unrolledk{unrolled_k}_epoch{epoch}\"\n",
    "                    dis_path = dir + f\"dis_modified_SingleGAN_{styleINdataset_or_not}idt{lbd['idt']}_cycle{lbd['cycle']}_gp{lbd['gp']}_KL{lbd['KL']}_reg{lbd['reg']}_classenc{lbd['class_enc']}_idtreg{lbd['idt_reg']}_attention{lbd['attention']}_consisreg{lbd['consis_reg']}_unrolledk{unrolled_k}_epoch{epoch}\"\n",
    "                    enc_path = dir + f\"enc_modified_SingleGAN_{styleINdataset_or_not}idt{lbd['idt']}_cycle{lbd['cycle']}_gp{lbd['gp']}_KL{lbd['KL']}_reg{lbd['reg']}_classenc{lbd['class_enc']}_idtreg{lbd['idt_reg']}_attention{lbd['attention']}_consisreg{lbd['consis_reg']}_unrolledk{unrolled_k}_epoch{epoch}\"\n",
    "\n",
    "                elif model_type == \"pretrained\":\n",
    "                    gen_path = dir + f\"gen_Style-RestrictedGAN_type-{model_type}_{styleINdataset_or_not}idt{lbd['idt']}_cycle{lbd['cycle']}_gp{lbd['gp']}_KL{lbd['KL']}_reg{lbd['reg']}_classenc{lbd['class_enc']}_idtreg{lbd['idt_reg']}_bKL{lbd['batch_KL']}_correnc{lbd['corr_enc']}_attention{lbd['attention']}_consisreg{lbd['consis_reg']}_hist{lbd['hist']}_unrolledk{unrolled_k}_epoch{epoch}\"\n",
    "                    dis_path = dir + f\"dis_Style-RestrictedGAN_type-{model_type}_{styleINdataset_or_not}idt{lbd['idt']}_cycle{lbd['cycle']}_gp{lbd['gp']}_KL{lbd['KL']}_reg{lbd['reg']}_classenc{lbd['class_enc']}_idtreg{lbd['idt_reg']}_bKL{lbd['batch_KL']}_correnc{lbd['corr_enc']}_attention{lbd['attention']}_consisreg{lbd['consis_reg']}_hist{lbd['hist']}_unrolledk{unrolled_k}_epoch{epoch}\"\n",
    "                    enc_path = dir + f\"enc_Style-RestrictedGAN_type-{model_type}_{styleINdataset_or_not}idt{lbd['idt']}_cycle{lbd['cycle']}_gp{lbd['gp']}_KL{lbd['KL']}_reg{lbd['reg']}_classenc{lbd['class_enc']}_idtreg{lbd['idt_reg']}_bKL{lbd['batch_KL']}_correnc{lbd['corr_enc']}_attention{lbd['attention']}_consisreg{lbd['consis_reg']}_hist{lbd['hist']}_unrolledk{unrolled_k}_epoch{epoch}\"\n",
    "\n",
    "                elif model_type == \"gradattention\":\n",
    "                    gen_path = dir + f\"gen_Style-RestrictedGAN_type-{model_type}-{attention_mode}_{styleINdataset_or_not}idt{lbd['idt']}_cycle{lbd['cycle']}_gp{lbd['gp']}_KL{lbd['KL']}_reg{lbd['reg']}_classenc{lbd['class_enc']}_idtreg{lbd['idt_reg']}_bKL{lbd['batch_KL']}_correnc{lbd['corr_enc']}_attention{lbd['attention']}_consisreg{lbd['consis_reg']}_hist{lbd['hist']}_unrolledk{unrolled_k}_epoch{epoch}\"\n",
    "                    dis_path = dir + f\"dis_Style-RestrictedGAN_type-{model_type}-{attention_mode}_{styleINdataset_or_not}idt{lbd['idt']}_cycle{lbd['cycle']}_gp{lbd['gp']}_KL{lbd['KL']}_reg{lbd['reg']}_classenc{lbd['class_enc']}_idtreg{lbd['idt_reg']}_bKL{lbd['batch_KL']}_correnc{lbd['corr_enc']}_attention{lbd['attention']}_consisreg{lbd['consis_reg']}_hist{lbd['hist']}_unrolledk{unrolled_k}_epoch{epoch}\"\n",
    "                    enc_path = dir + f\"enc_Style-RestrictedGAN_type-{model_type}-{attention_mode}_{styleINdataset_or_not}idt{lbd['idt']}_cycle{lbd['cycle']}_gp{lbd['gp']}_KL{lbd['KL']}_reg{lbd['reg']}_classenc{lbd['class_enc']}_idtreg{lbd['idt_reg']}_bKL{lbd['batch_KL']}_correnc{lbd['corr_enc']}_attention{lbd['attention']}_consisreg{lbd['consis_reg']}_hist{lbd['hist']}_unrolledk{unrolled_k}_epoch{epoch}\"\n",
    "\n",
    "                torch.save(sg.G.module.state_dict(), gen_path)\n",
    "                torch.save(sg.D.module.state_dict(), dis_path)\n",
    "                torch.save(sg.E.module.state_dict(), enc_path)\n",
    "\n",
    "\n",
    "        sg.scheD.step()\n",
    "        losses_D.append(np.mean(loss_D))\n",
    "        sg.scheG.step()\n",
    "        losses_G.append(np.mean(loss_G))\n",
    "        sg.scheE.step()\n",
    "        losses_E.append(np.mean(loss_E))\n",
    "\n",
    "        clear_output(wait=True)\n",
    "        print(f\"{epoch+1}: {(time.time()-start_time)/60} mins\")\n",
    "        fig = get_output_and_plot(sg, sampleset, 53, [classes, label_discription], 5, styleINdataset, device)\n",
    "\n",
    "        length = 5\n",
    "        width = 4\n",
    "        losses = [losses_D, losses_G, losses_E]\n",
    "        ax = fig.add_subplot(length, width, 17)\n",
    "        models = [\"Discriminator\", \"Generator\", \"Encoder\"]\n",
    "        for k in range(len(losses)):\n",
    "            if models[k] == \"Discriminator\":\n",
    "                if type(losses[k]) == dict:\n",
    "                    for i in classes:\n",
    "                        ax.plot(losses[k][i], label=f\"Discriminator-{i}\")\n",
    "                elif type(losses[k]) == list:\n",
    "                    ax.plot(losses[k], label=f\"Discriminator\")\n",
    "            else:\n",
    "                ax.plot(losses[k], label=models[k])\n",
    "        ax.legend()\n",
    "\n",
    "        plt.show()"
   ]
  }
 ],
 "metadata": {
  "kernelspec": {
   "display_name": "Python 3",
   "language": "python",
   "name": "python3"
  },
  "language_info": {
   "codemirror_mode": {
    "name": "ipython",
    "version": 3
   },
   "file_extension": ".py",
   "mimetype": "text/x-python",
   "name": "python",
   "nbconvert_exporter": "python",
   "pygments_lexer": "ipython3",
   "version": "3.6.9"
  },
  "toc-autonumbering": true,
  "toc-showcode": false
 },
 "nbformat": 4,
 "nbformat_minor": 4
}
